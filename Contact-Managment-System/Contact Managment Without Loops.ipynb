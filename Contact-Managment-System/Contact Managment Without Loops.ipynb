{
 "cells": [
  {
   "cell_type": "code",
   "execution_count": null,
   "id": "b924b51c-782d-4027-8cf6-7dc0e09438a6",
   "metadata": {},
   "outputs": [
    {
     "name": "stdout",
     "output_type": "stream",
     "text": [
      "\n",
      "Contact Management System\n",
      "1. Add Contact\n",
      "2. Get Contact\n",
      "3. Update Contact\n",
      "4. Delete Contact\n",
      "5. View Contacts\n",
      "6. Exit\n"
     ]
    },
    {
     "name": "stdin",
     "output_type": "stream",
     "text": [
      "Enter your choice (1-6):  1\n",
      "Enter name:  hassan\n",
      "Enter phone number:  33333\n",
      "Enter email address:  3333\n"
     ]
    },
    {
     "name": "stdout",
     "output_type": "stream",
     "text": [
      "Contact hassan added successfully.\n",
      "\n",
      "Contact Management System\n",
      "1. Add Contact\n",
      "2. Get Contact\n",
      "3. Update Contact\n",
      "4. Delete Contact\n",
      "5. View Contacts\n",
      "6. Exit\n"
     ]
    }
   ],
   "source": [
    "# Contact Management System\n",
    "\n",
    "def add_contact(name, phone, email):\n",
    "    if name in contacts:\n",
    "        return \"This name already exists\"\n",
    "    contacts[name] = {\n",
    "        \"phone\": phone,\n",
    "        \"email\": email\n",
    "    }\n",
    "    return f\"Contact {name} added successfully.\"\n",
    "\n",
    "def get_contact(name):\n",
    "    if name in contacts:\n",
    "        return contacts[name]\n",
    "    return f\"Contact with name {name} does not exist.\"\n",
    "\n",
    "def update_contact(name, phone, email):\n",
    "    if name in contacts:\n",
    "        contacts[name] = {\n",
    "            \"phone\": phone,\n",
    "            \"email\": email\n",
    "        }\n",
    "        return f\"Contact {name} updated successfully.\"\n",
    "    return f\"Contact with name {name} does not exist.\"\n",
    "\n",
    "def delete_contact(name):\n",
    "    if name in contacts:\n",
    "        del contacts[name]\n",
    "        return f\"Contact {name} deleted successfully.\"\n",
    "    return f\"Contact with name {name} does not exist.\"\n",
    "\n",
    "def view_contacts():\n",
    "    if not contacts:\n",
    "        return \"No contacts available.\"\n",
    "    contact_list = []\n",
    "    for name, details in contacts.items():\n",
    "        contact_list.append(f\"Name: {name}, Phone: {details['phone']}, Email: {details['email']}\")\n",
    "    return \"\\n\".join(contact_list)\n",
    "\n",
    "contacts = {}\n",
    "\n",
    "def menu():\n",
    "    while True:\n",
    "        print(\"\\nContact Management System\")\n",
    "        print(\"1. Add Contact\")\n",
    "        print(\"2. Get Contact\")\n",
    "        print(\"3. Update Contact\")\n",
    "        print(\"4. Delete Contact\")\n",
    "        print(\"5. View Contacts\")\n",
    "        print(\"6. Exit\")\n",
    "\n",
    "        choice = input(\"Enter your choice (1-6): \")\n",
    "\n",
    "        if choice == '1':\n",
    "            name = input(\"Enter name: \")\n",
    "            phone = input(\"Enter phone number: \")\n",
    "            email = input(\"Enter email address: \")\n",
    "            print(add_contact(name, phone, email))\n",
    "        \n",
    "        elif choice == '2':\n",
    "            name = input(\"Enter name: \")\n",
    "            print(get_contact(name))\n",
    "        \n",
    "        elif choice == '3':\n",
    "            name = input(\"Enter name: \")\n",
    "            phone = input(\"Enter new phone number: \")\n",
    "            email = input(\"Enter new email address: \")\n",
    "            print(update_contact(name, phone, email))\n",
    "        \n",
    "        elif choice == '4':\n",
    "            name = input(\"Enter name: \")\n",
    "            print(delete_contact(name))\n",
    "        \n",
    "        elif choice == '5':\n",
    "            print(view_contacts())\n",
    "        \n",
    "        elif choice == '6':\n",
    "            print(\"Exit\")\n",
    "            break\n",
    "\n",
    "        else:\n",
    "            print(\"Invalid choice. Please try again.\")\n",
    "\n",
    "menu()\n"
   ]
  },
  {
   "cell_type": "code",
   "execution_count": null,
   "id": "9234ce9c-37e2-4155-b678-26cc05d10539",
   "metadata": {},
   "outputs": [],
   "source": []
  }
 ],
 "metadata": {
  "kernelspec": {
   "display_name": "Python 3 (ipykernel)",
   "language": "python",
   "name": "python3"
  },
  "language_info": {
   "codemirror_mode": {
    "name": "ipython",
    "version": 3
   },
   "file_extension": ".py",
   "mimetype": "text/x-python",
   "name": "python",
   "nbconvert_exporter": "python",
   "pygments_lexer": "ipython3",
   "version": "3.12.3"
  }
 },
 "nbformat": 4,
 "nbformat_minor": 5
}
