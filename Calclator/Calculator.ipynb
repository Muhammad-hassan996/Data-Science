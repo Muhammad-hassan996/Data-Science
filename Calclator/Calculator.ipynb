{
 "cells": [
  {
   "cell_type": "code",
   "execution_count": null,
   "id": "49888d97-a6e3-454f-bbd4-410345781670",
   "metadata": {
    "jp-MarkdownHeadingCollapsed": true
   },
   "outputs": [],
   "source": [
    "## Simple Calculator in Python\n",
    "\n",
    "\n",
    "# Simple Calculator in Python\n",
    "\n",
    "# Prompt the user to choose an operation\n",
    "print(\"Select operation:\")\n",
    "print(\"1. Addition\")\n",
    "print(\"2. Subtraction\")\n",
    "print(\"3. Multiplication\")\n",
    "print(\"4. Division\")\n",
    "\n",
    "# Get the user's choice of operation\n",
    "operation = input(\"Enter choice (1/2/3/4): \")\n",
    "\n",
    "# Prompt the user to enter the first and second numbers\n",
    "num1 = int(input(\"Enter first number: \"))  # Convert the input to an int\n",
    "num2 = int(input(\"Enter second number: \"))  # Convert the input to an int\n",
    "\n",
    "# Perform the chosen operation using if-else statements\n",
    "if operation == '1':\n",
    "    result = num1 + num2\n",
    "    print(\"The result of addition is:\", result)\n",
    "elif operation == '2':\n",
    "    result = num1 - num2\n",
    "    print(\"The result of subtraction is:\", result)\n",
    "elif operation == '3':\n",
    "    result = num1 * num2\n",
    "    print(\"The result of multiplication is:\", result)\n",
    "elif operation == '4':\n",
    "    if num2 != 0:\n",
    "        result = num1 / num2\n",
    "        print(\"The result of division is:\", result)\n",
    "    else:\n",
    "        print(\"Error: Division by zero is not allowed.\")\n",
    "else:\n",
    "    print(\"Invalid input.\")\n"
   ]
  },
  {
   "cell_type": "code",
   "execution_count": null,
   "id": "2d38b7e5-5e5b-4d65-8050-bcc06147a69a",
   "metadata": {},
   "outputs": [],
   "source": []
  }
 ],
 "metadata": {
  "kernelspec": {
   "display_name": "Python 3 (ipykernel)",
   "language": "python",
   "name": "python3"
  },
  "language_info": {
   "codemirror_mode": {
    "name": "ipython",
    "version": 3
   },
   "file_extension": ".py",
   "mimetype": "text/x-python",
   "name": "python",
   "nbconvert_exporter": "python",
   "pygments_lexer": "ipython3",
   "version": "3.12.3"
  }
 },
 "nbformat": 4,
 "nbformat_minor": 5
}
