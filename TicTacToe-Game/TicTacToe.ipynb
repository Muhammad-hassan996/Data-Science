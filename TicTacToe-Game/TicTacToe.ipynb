{
 "cells": [
  {
   "cell_type": "code",
   "execution_count": 3,
   "id": "8292ad62-6402-41e1-b4e6-08299bb75642",
   "metadata": {},
   "outputs": [
    {
     "name": "stdin",
     "output_type": "stream",
     "text": [
      "Enter the name of the first player:  HASSAN\n",
      "Enter the name of the second player:  ASSA\n",
      "HASSAN, choose your symbol (X or O):  X\n",
      "ASSA, choose your symbol (X or O):  O\n"
     ]
    },
    {
     "name": "stdout",
     "output_type": "stream",
     "text": [
      "       \n",
      "       \n",
      "       \n",
      "HASSAN's turn (X):\n"
     ]
    },
    {
     "name": "stdin",
     "output_type": "stream",
     "text": [
      "Enter your move (0-8):  1\n"
     ]
    },
    {
     "name": "stdout",
     "output_type": "stream",
     "text": [
      "   X   \n",
      "       \n",
      "       \n",
      "ASSA's turn (O):\n"
     ]
    },
    {
     "name": "stdin",
     "output_type": "stream",
     "text": [
      "Enter your move (0-8):  2\n"
     ]
    },
    {
     "name": "stdout",
     "output_type": "stream",
     "text": [
      "   X  O\n",
      "       \n",
      "       \n",
      "HASSAN's turn (X):\n"
     ]
    },
    {
     "name": "stdin",
     "output_type": "stream",
     "text": [
      "Enter your move (0-8):  3\n"
     ]
    },
    {
     "name": "stdout",
     "output_type": "stream",
     "text": [
      "   X  O\n",
      "X      \n",
      "       \n",
      "ASSA's turn (O):\n"
     ]
    },
    {
     "name": "stdin",
     "output_type": "stream",
     "text": [
      "Enter your move (0-8):  4\n"
     ]
    },
    {
     "name": "stdout",
     "output_type": "stream",
     "text": [
      "   X  O\n",
      "X  O   \n",
      "       \n",
      "HASSAN's turn (X):\n"
     ]
    },
    {
     "name": "stdin",
     "output_type": "stream",
     "text": [
      "Enter your move (0-8):  6\n"
     ]
    },
    {
     "name": "stdout",
     "output_type": "stream",
     "text": [
      "   X  O\n",
      "X  O   \n",
      "X      \n",
      "ASSA's turn (O):\n"
     ]
    },
    {
     "name": "stdin",
     "output_type": "stream",
     "text": [
      "Enter your move (0-8):  7\n"
     ]
    },
    {
     "name": "stdout",
     "output_type": "stream",
     "text": [
      "   X  O\n",
      "X  O   \n",
      "X  O   \n",
      "HASSAN's turn (X):\n"
     ]
    },
    {
     "name": "stdin",
     "output_type": "stream",
     "text": [
      "Enter your move (0-8):  8\n"
     ]
    },
    {
     "name": "stdout",
     "output_type": "stream",
     "text": [
      "   X  O\n",
      "X  O   \n",
      "X  O  X\n",
      "ASSA's turn (O):\n"
     ]
    },
    {
     "name": "stdin",
     "output_type": "stream",
     "text": [
      "Enter your move (0-8):  89\n"
     ]
    },
    {
     "name": "stdout",
     "output_type": "stream",
     "text": [
      "Invalid move. Please enter a number between 0 and 8.\n",
      "   X  O\n",
      "X  O   \n",
      "X  O  X\n",
      "ASSA's turn (O):\n"
     ]
    },
    {
     "name": "stdin",
     "output_type": "stream",
     "text": [
      "Enter your move (0-8):  4\n"
     ]
    },
    {
     "name": "stdout",
     "output_type": "stream",
     "text": [
      "Invalid move. Cell already occupied. Try again.\n",
      "   X  O\n",
      "X  O   \n",
      "X  O  X\n",
      "ASSA's turn (O):\n"
     ]
    },
    {
     "name": "stdin",
     "output_type": "stream",
     "text": [
      "Enter your move (0-8):  5\n"
     ]
    },
    {
     "name": "stdout",
     "output_type": "stream",
     "text": [
      "   X  O\n",
      "X  O  O\n",
      "X  O  X\n",
      "HASSAN's turn (X):\n"
     ]
    },
    {
     "name": "stdin",
     "output_type": "stream",
     "text": [
      "Enter your move (0-8):  6\n"
     ]
    },
    {
     "name": "stdout",
     "output_type": "stream",
     "text": [
      "Invalid move. Cell already occupied. Try again.\n",
      "   X  O\n",
      "X  O  O\n",
      "X  O  X\n",
      "HASSAN's turn (X):\n"
     ]
    },
    {
     "name": "stdin",
     "output_type": "stream",
     "text": [
      "Enter your move (0-8):  0\n"
     ]
    },
    {
     "name": "stdout",
     "output_type": "stream",
     "text": [
      "X  X  O\n",
      "X  O  O\n",
      "X  O  X\n",
      "Congratulations HASSAN! You win!\n"
     ]
    }
   ],
   "source": [
    "def print_table():\n",
    "    print(f\"{zero} | {one} | {two}\")\n",
    "    print(\"--|---|--\")\n",
    "    print(f\"{three} | {four} | {five}\")\n",
    "    print(\"|---|--\")\n",
    "    print(f\"{six} | {seven} | {eight}\")\n",
    "\n",
    "def check_winner(symbol):\n",
    "    winning_combinations = [\n",
    "        (zero, one, two),\n",
    "        (three, four, five),\n",
    "        (six, seven, eight),\n",
    "        (zero, three, six),\n",
    "        (one, four, seven),\n",
    "        (two, five, eight),\n",
    "        (zero, four, eight),\n",
    "        (two, four, six)\n",
    "    ]\n",
    "    return any(all(cell == symbol for cell in combo) for combo in winning_combinations)\n",
    "\n",
    "def is_board_full():\n",
    "    return all(cell in ['X', 'O'] for cell in [zero, one, two, three, four, five, six, seven, eight])\n",
    "\n",
    "def tic_tac_toe():\n",
    "    global zero, one, two, three, four, five, six, seven, eight\n",
    "    zero = one = two = three = four = five = six = seven = eight = ' '\n",
    "\n",
    "\n",
    "    player1 = input(\"Enter the name of the first player: \")\n",
    "    player2 = input(\"Enter the name of the second player: \")\n",
    "\n",
    "    symbol1 = input(f\"{player1}, choose your symbol (X or O): \").upper()\n",
    "    while symbol1 not in ['X', 'O']:\n",
    "        symbol1 = input(\"Invalid input. Please choose X or O: \").upper()\n",
    "    \n",
    "    symbol2 = input(f\"{player2}, choose your symbol (X or O): \").upper()\n",
    "    while symbol2 not in ['X', 'O']:\n",
    "        symbol2 = input(\"Invalid input. Please choose X or O: \").upper()\n",
    "\n",
    "    players = [(player1, symbol1), (player2, symbol2)]\n",
    "\n",
    "    current_player_index = 0\n",
    "    while True:\n",
    "        print_table()\n",
    "\n",
    "        current_player, current_symbol = players[current_player_index]\n",
    "        print(f\"{current_player}'s turn ({current_symbol}):\")\n",
    "\n",
    "        try:\n",
    "            move = int(input(\"Enter your move (0-8): \"))\n",
    "        except ValueError:\n",
    "            print(\"Invalid input. Please enter a number between 0 and 8.\")\n",
    "            continue\n",
    "\n",
    "        if move not in range(9):\n",
    "            print(\"Invalid move. Please enter a number between 0 and 8.\")\n",
    "            continue\n",
    "\n",
    "        if move == 0 and zero == ' ':\n",
    "            zero = current_symbol\n",
    "        elif move == 1 and one == ' ':\n",
    "            one = current_symbol\n",
    "        elif move == 2 and two == ' ':\n",
    "            two = current_symbol\n",
    "        elif move == 3 and three == ' ':\n",
    "            three = current_symbol\n",
    "        elif move == 4 and four == ' ':\n",
    "            four = current_symbol\n",
    "        elif move == 5 and five == ' ':\n",
    "            five = current_symbol\n",
    "        elif move == 6 and six == ' ':\n",
    "            six = current_symbol\n",
    "        elif move == 7 and seven == ' ':\n",
    "            seven = current_symbol\n",
    "        elif move == 8 and eight == ' ':\n",
    "            eight = current_symbol\n",
    "        else:\n",
    "            print(\"Invalid move. Cell already occupied. Try again.\")\n",
    "            continue\n",
    "\n",
    "        if check_winner(current_symbol):\n",
    "            print_table()\n",
    "            print(f\"Congratulations {current_player}! You win!\")\n",
    "            break\n",
    "\n",
    "        if is_board_full():\n",
    "            print_table()\n",
    "            print(\"The game is a draw!\")\n",
    "            break\n",
    "\n",
    "        current_player_index = 1 - current_player_index\n",
    "\n",
    "tic_tac_toe()\n"
   ]
  },
  {
   "cell_type": "code",
   "execution_count": 1,
   "id": "5587e8bd-3009-4fee-b659-eb099db5acb2",
   "metadata": {},
   "outputs": [
    {
     "name": "stdin",
     "output_type": "stream",
     "text": [
      "Enter the name of the first player:  ha\n",
      "Enter the name of the second player:  as\n",
      "ha, choose your symbol (X or O):  X\n"
     ]
    },
    {
     "name": "stdout",
     "output_type": "stream",
     "text": [
      "0 | 1 | 2\n",
      "--|---|--\n",
      "3 | 4 | 5\n",
      "--|---|--\n",
      "6 | 7 | 8\n",
      "ha's turn (X):\n"
     ]
    },
    {
     "name": "stdin",
     "output_type": "stream",
     "text": [
      "Enter your move (0-8):  O\n"
     ]
    },
    {
     "name": "stdout",
     "output_type": "stream",
     "text": [
      "Invalid input. Please enter a number between 0 and 8.\n",
      "0 | 1 | 2\n",
      "--|---|--\n",
      "3 | 4 | 5\n",
      "--|---|--\n",
      "6 | 7 | 8\n",
      "ha's turn (X):\n"
     ]
    },
    {
     "name": "stdin",
     "output_type": "stream",
     "text": [
      "Enter your move (0-8):  0\n"
     ]
    },
    {
     "name": "stdout",
     "output_type": "stream",
     "text": [
      "X | 1 | 2\n",
      "--|---|--\n",
      "3 | 4 | 5\n",
      "--|---|--\n",
      "6 | 7 | 8\n",
      "as's turn (O):\n"
     ]
    },
    {
     "name": "stdin",
     "output_type": "stream",
     "text": [
      "Enter your move (0-8):  3\n"
     ]
    },
    {
     "name": "stdout",
     "output_type": "stream",
     "text": [
      "X | 1 | 2\n",
      "--|---|--\n",
      "O | 4 | 5\n",
      "--|---|--\n",
      "6 | 7 | 8\n",
      "ha's turn (X):\n"
     ]
    },
    {
     "name": "stdin",
     "output_type": "stream",
     "text": [
      "Enter your move (0-8):  2\n"
     ]
    },
    {
     "name": "stdout",
     "output_type": "stream",
     "text": [
      "X | 1 | X\n",
      "--|---|--\n",
      "O | 4 | 5\n",
      "--|---|--\n",
      "6 | 7 | 8\n",
      "as's turn (O):\n"
     ]
    },
    {
     "name": "stdin",
     "output_type": "stream",
     "text": [
      "Enter your move (0-8):  1\n"
     ]
    },
    {
     "name": "stdout",
     "output_type": "stream",
     "text": [
      "X | O | X\n",
      "--|---|--\n",
      "O | 4 | 5\n",
      "--|---|--\n",
      "6 | 7 | 8\n",
      "ha's turn (X):\n"
     ]
    },
    {
     "name": "stdin",
     "output_type": "stream",
     "text": [
      "Enter your move (0-8):  8\n"
     ]
    },
    {
     "name": "stdout",
     "output_type": "stream",
     "text": [
      "X | O | X\n",
      "--|---|--\n",
      "O | 4 | 5\n",
      "--|---|--\n",
      "6 | 7 | X\n",
      "as's turn (O):\n"
     ]
    },
    {
     "name": "stdin",
     "output_type": "stream",
     "text": [
      "Enter your move (0-8):  4\n"
     ]
    },
    {
     "name": "stdout",
     "output_type": "stream",
     "text": [
      "X | O | X\n",
      "--|---|--\n",
      "O | O | 5\n",
      "--|---|--\n",
      "6 | 7 | X\n",
      "ha's turn (X):\n"
     ]
    },
    {
     "name": "stdin",
     "output_type": "stream",
     "text": [
      "Enter your move (0-8):  7\n"
     ]
    },
    {
     "name": "stdout",
     "output_type": "stream",
     "text": [
      "X | O | X\n",
      "--|---|--\n",
      "O | O | 5\n",
      "--|---|--\n",
      "6 | X | X\n",
      "as's turn (O):\n"
     ]
    },
    {
     "name": "stdin",
     "output_type": "stream",
     "text": [
      "Enter your move (0-8):  5\n"
     ]
    },
    {
     "name": "stdout",
     "output_type": "stream",
     "text": [
      "X | O | X\n",
      "--|---|--\n",
      "O | O | O\n",
      "--|---|--\n",
      "6 | X | X\n",
      "Congratulations as! You win!\n"
     ]
    }
   ],
   "source": [
    "def print_table(board):\n",
    "    print(f\"{board[0]} | {board[1]} | {board[2]}\")\n",
    "    print(\"--|---|--\")\n",
    "    print(f\"{board[3]} | {board[4]} | {board[5]}\")\n",
    "    print(\"--|---|--\")\n",
    "    print(f\"{board[6]} | {board[7]} | {board[8]}\")\n",
    "\n",
    "def check_winner(board, symbol):\n",
    "    winning_combinations = [\n",
    "        (0, 1, 2),\n",
    "        (3, 4, 5),\n",
    "        (6, 7, 8),\n",
    "        (0, 3, 6),\n",
    "        (1, 4, 7),\n",
    "        (2, 5, 8),\n",
    "        (0, 4, 8),\n",
    "        (2, 4, 6)\n",
    "    ]\n",
    "    return any(all(board[cell] == symbol for cell in combo) for combo in winning_combinations)\n",
    "\n",
    "def is_board_full(board):\n",
    "    return all(cell in ['X', 'O'] for cell in board)\n",
    "\n",
    "def tic_tac_toe():\n",
    "    board = [str(i) for i in range(9)]\n",
    "\n",
    "    player1 = input(\"Enter the name of the first player: \")\n",
    "    player2 = input(\"Enter the name of the second player: \")\n",
    "\n",
    "    symbol1 = input(f\"{player1}, choose your symbol (X or O): \").upper()\n",
    "    while symbol1 not in ['X', 'O']:\n",
    "        symbol1 = input(\"Invalid input. Please choose X or O: \").upper()\n",
    "    \n",
    "    symbol2 = 'O' if symbol1 == 'X' else 'X'\n",
    "    \n",
    "    players = [(player1, symbol1), (player2, symbol2)]\n",
    "\n",
    "    current_player_index = 0\n",
    "    while True:\n",
    "        print_table(board)\n",
    "\n",
    "        current_player, current_symbol = players[current_player_index]\n",
    "        print(f\"{current_player}'s turn ({current_symbol}):\")\n",
    "\n",
    "        try:\n",
    "            move = int(input(\"Enter your move (0-8): \"))\n",
    "        except ValueError:\n",
    "            print(\"Invalid input. Please enter a number between 0 and 8.\")\n",
    "            continue\n",
    "\n",
    "        if move not in range(9):\n",
    "            print(\"Invalid move. Please enter a number between 0 and 8.\")\n",
    "            continue\n",
    "\n",
    "        if board[move] not in ['X', 'O']:\n",
    "            board[move] = current_symbol\n",
    "        else:\n",
    "            print(\"Invalid move. Cell already occupied. Try again.\")\n",
    "            continue\n",
    "\n",
    "        if check_winner(board, current_symbol):\n",
    "            print_table(board)\n",
    "            print(f\"Congratulations {current_player}! You win!\")\n",
    "            break\n",
    "\n",
    "        if is_board_full(board):\n",
    "            print_table(board)\n",
    "            print(\"The game is a draw!\")\n",
    "            break\n",
    "\n",
    "        current_player_index = 1 - current_player_index\n",
    "\n",
    "tic_tac_toe()\n"
   ]
  },
  {
   "cell_type": "code",
   "execution_count": null,
   "id": "a76695d0-d0bc-4e97-b4bb-ba14bb2f43b3",
   "metadata": {},
   "outputs": [],
   "source": []
  }
 ],
 "metadata": {
  "kernelspec": {
   "display_name": "Python 3 (ipykernel)",
   "language": "python",
   "name": "python3"
  },
  "language_info": {
   "codemirror_mode": {
    "name": "ipython",
    "version": 3
   },
   "file_extension": ".py",
   "mimetype": "text/x-python",
   "name": "python",
   "nbconvert_exporter": "python",
   "pygments_lexer": "ipython3",
   "version": "3.12.3"
  }
 },
 "nbformat": 4,
 "nbformat_minor": 5
}
